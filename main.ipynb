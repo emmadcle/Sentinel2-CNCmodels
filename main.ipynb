{
 "cells": [
  {
   "cell_type": "markdown",
   "metadata": {},
   "source": [
    "## Install and import necessary packages"
   ]
  },
  {
   "cell_type": "code",
   "execution_count": 36,
   "metadata": {
    "tags": []
   },
   "outputs": [
    {
     "data": {
      "text/html": [
       "\n",
       "            <style>\n",
       "                .geemap-dark {\n",
       "                    --jp-widgets-color: white;\n",
       "                    --jp-widgets-label-color: white;\n",
       "                    --jp-ui-font-color1: white;\n",
       "                    --jp-layout-color2: #454545;\n",
       "                    background-color: #383838;\n",
       "                }\n",
       "\n",
       "                .geemap-dark .jupyter-button {\n",
       "                    --jp-layout-color3: #383838;\n",
       "                }\n",
       "\n",
       "                .geemap-colab {\n",
       "                    background-color: var(--colab-primary-surface-color, white);\n",
       "                }\n",
       "\n",
       "                .geemap-colab .jupyter-button {\n",
       "                    --jp-layout-color3: var(--colab-primary-surface-color, white);\n",
       "                }\n",
       "            </style>\n",
       "            "
      ],
      "text/plain": [
       "<IPython.core.display.HTML object>"
      ]
     },
     "metadata": {},
     "output_type": "display_data"
    }
   ],
   "source": [
    "!pip install geemap --quiet\n",
    "!pip install earthengine-api --quiet\n",
    "!pip install PyCRS --quiet\n",
    "!pip install restee --quiet\n",
    "!pip install config --quiet\n",
    "!pip install geojson --quiet\n",
    "!pip install jupyter-leaflet --quiet\n",
    "\n",
    "import geemap, ee, os, sys, pycrs, datetime\n",
    "import geemap.colormaps as cm\n",
    "\n",
    "from ipyleaflet import *\n",
    "from ipywidgets import Label\n",
    "import datetime\n",
    "import pandas as pd\n",
    "import numpy as np\n",
    "import matplotlib.pyplot as plt\n",
    "\n",
    "import matplotlib.dates as mdates\n",
    "import matplotlib.ticker as ticker\n",
    "\n",
    "import config\n",
    "import json\n",
    "import csv\n",
    "import json\n",
    "import geojson\n",
    "import geopandas as gpd\n",
    "import rasterio\n",
    "import importlib\n",
    "import numpy as np\n",
    "\n",
    "import requests\n",
    "import zipfile\n",
    "import os\n",
    "from os import listdir\n",
    "from os.path import isfile,join"
   ]
  },
  {
   "cell_type": "markdown",
   "metadata": {},
   "source": [
    "## Log in to your own Google Earth Engine account"
   ]
  },
  {
   "cell_type": "code",
   "execution_count": 37,
   "metadata": {
    "tags": []
   },
   "outputs": [
    {
     "data": {
      "text/html": [
       "\n",
       "            <style>\n",
       "                .geemap-dark {\n",
       "                    --jp-widgets-color: white;\n",
       "                    --jp-widgets-label-color: white;\n",
       "                    --jp-ui-font-color1: white;\n",
       "                    --jp-layout-color2: #454545;\n",
       "                    background-color: #383838;\n",
       "                }\n",
       "\n",
       "                .geemap-dark .jupyter-button {\n",
       "                    --jp-layout-color3: #383838;\n",
       "                }\n",
       "\n",
       "                .geemap-colab {\n",
       "                    background-color: var(--colab-primary-surface-color, white);\n",
       "                }\n",
       "\n",
       "                .geemap-colab .jupyter-button {\n",
       "                    --jp-layout-color3: var(--colab-primary-surface-color, white);\n",
       "                }\n",
       "            </style>\n",
       "            "
      ],
      "text/plain": [
       "<IPython.core.display.HTML object>"
      ]
     },
     "metadata": {},
     "output_type": "display_data"
    }
   ],
   "source": [
    "ee.Authenticate()\n",
    "ee.Initialize()"
   ]
  },
  {
   "cell_type": "markdown",
   "metadata": {},
   "source": [
    "## Import packages and the Canopy Nitrogen Content models"
   ]
  },
  {
   "cell_type": "code",
   "execution_count": 38,
   "metadata": {
    "tags": []
   },
   "outputs": [
    {
     "data": {
      "text/html": [
       "\n",
       "            <style>\n",
       "                .geemap-dark {\n",
       "                    --jp-widgets-color: white;\n",
       "                    --jp-widgets-label-color: white;\n",
       "                    --jp-ui-font-color1: white;\n",
       "                    --jp-layout-color2: #454545;\n",
       "                    background-color: #383838;\n",
       "                }\n",
       "\n",
       "                .geemap-dark .jupyter-button {\n",
       "                    --jp-layout-color3: #383838;\n",
       "                }\n",
       "\n",
       "                .geemap-colab {\n",
       "                    background-color: var(--colab-primary-surface-color, white);\n",
       "                }\n",
       "\n",
       "                .geemap-colab .jupyter-button {\n",
       "                    --jp-layout-color3: var(--colab-primary-surface-color, white);\n",
       "                }\n",
       "            </style>\n",
       "            "
      ],
      "text/plain": [
       "<IPython.core.display.HTML object>"
      ]
     },
     "metadata": {},
     "output_type": "display_data"
    }
   ],
   "source": [
    "import CNCmodel_Cab\n",
    "import CNCmodel_Cprot"
   ]
  },
  {
   "cell_type": "markdown",
   "metadata": {},
   "source": [
    "## User definition: choose region of interest, timeframe and asset path"
   ]
  },
  {
   "cell_type": "code",
   "execution_count": 39,
   "metadata": {
    "colab": {
     "base_uri": "https://localhost:8080/",
     "height": 17
    },
    "id": "uRGv30s-qwJX",
    "outputId": "f3460f1d-0fb2-46e0-bd29-cfc5bf394b2a",
    "tags": []
   },
   "outputs": [
    {
     "data": {
      "text/html": [
       "\n",
       "            <style>\n",
       "                .geemap-dark {\n",
       "                    --jp-widgets-color: white;\n",
       "                    --jp-widgets-label-color: white;\n",
       "                    --jp-ui-font-color1: white;\n",
       "                    --jp-layout-color2: #454545;\n",
       "                    background-color: #383838;\n",
       "                }\n",
       "\n",
       "                .geemap-dark .jupyter-button {\n",
       "                    --jp-layout-color3: #383838;\n",
       "                }\n",
       "\n",
       "                .geemap-colab {\n",
       "                    background-color: var(--colab-primary-surface-color, white);\n",
       "                }\n",
       "\n",
       "                .geemap-colab .jupyter-button {\n",
       "                    --jp-layout-color3: var(--colab-primary-surface-color, white);\n",
       "                }\n",
       "            </style>\n",
       "            "
      ],
      "text/plain": [
       "<IPython.core.display.HTML object>"
      ]
     },
     "metadata": {},
     "output_type": "display_data"
    }
   ],
   "source": [
    "# Region of interest (MNI study site)\n",
    "roi = ee.Geometry.Polygon(\n",
    "    [[[11.67427222, 48.29512500],\n",
    "      [11.67132778, 48.23868889],\n",
    "      [11.73912778, 48.23709167],\n",
    "      [11.74214722, 48.29352500]]])\n",
    "\n",
    "# Start and end date and timesteps \n",
    "startDateStr = '2020-07-01'\n",
    "endDateStr = '2020-08-31'\n",
    "timeWindows = 7\n",
    "\n",
    "# Your own Google Earth Engine asset path \n",
    "assetPath = 'projects/ee-declerck/assets/CNCjupyterTest/'\n",
    "\n",
    "# Choose Cprot or Cab model\n",
    "CNCmethod = 'Cprot'"
   ]
  },
  {
   "cell_type": "markdown",
   "metadata": {
    "tags": []
   },
   "source": [
    "## Set up variables and functions"
   ]
  },
  {
   "cell_type": "code",
   "execution_count": 41,
   "metadata": {
    "tags": []
   },
   "outputs": [
    {
     "data": {
      "text/html": [
       "\n",
       "            <style>\n",
       "                .geemap-dark {\n",
       "                    --jp-widgets-color: white;\n",
       "                    --jp-widgets-label-color: white;\n",
       "                    --jp-ui-font-color1: white;\n",
       "                    --jp-layout-color2: #454545;\n",
       "                    background-color: #383838;\n",
       "                }\n",
       "\n",
       "                .geemap-dark .jupyter-button {\n",
       "                    --jp-layout-color3: #383838;\n",
       "                }\n",
       "\n",
       "                .geemap-colab {\n",
       "                    background-color: var(--colab-primary-surface-color, white);\n",
       "                }\n",
       "\n",
       "                .geemap-colab .jupyter-button {\n",
       "                    --jp-layout-color3: var(--colab-primary-surface-color, white);\n",
       "                }\n",
       "            </style>\n",
       "            "
      ],
      "text/plain": [
       "<IPython.core.display.HTML object>"
      ]
     },
     "metadata": {},
     "output_type": "display_data"
    }
   ],
   "source": [
    "# Parameter settings\n",
    "startDateGEE = ee.Date(startDateStr)\n",
    "startDateGEE = ee.Date(startDateStr)\n",
    "endDate = datetime.datetime.strptime(endDateStr, '%Y-%m-%d').date()\n",
    "\n",
    "variables_GREEN = {'CNCmethod':['CNCmethod', 25, 0.001]}\n",
    "\n",
    "S2MSI = ee.ImageCollection('COPERNICUS/S2_SR_HARMONIZED')\n",
    "\n",
    "sys.setrecursionlimit(10000000)\n",
    "\n",
    "# Cloud mask\n",
    "def maskS2cloud(image):\n",
    "  model = globals()['CNCmodel_' + CNCmethod]\n",
    "  qa = image.select('QA60')\n",
    "  cloudBitMask = 1 << 10\n",
    "  cirrusBitMask = 1 << 11\n",
    "  mask = qa.bitwiseAnd(cloudBitMask).eq(0) \\\n",
    "      .And(qa.bitwiseAnd(cirrusBitMask).eq(0))\n",
    "  return image.updateMask(mask).divide(model.scaleFactor_GREEN).copyProperties(qa).set('system:time_start', qa.get('system:time_start'))\n",
    "\n",
    "\n",
    "# Desert and water masks\n",
    "bare_cover = ee.Image(\"COPERNICUS/Landcover/100m/Proba-V-C3/Global/2019\").select('bare-coverfraction').lte(90);\n",
    "lakes = ee.Image(\"COPERNICUS/Landcover/100m/Proba-V-C3/Global/2019\").select('discrete_classification').eq(80)\n",
    "lakemask = lakes.eq(0);\n",
    "\n",
    "\n",
    "# Some auxilary functions\n",
    "def sequence_GREEN(CNCmethod):\n",
    "    sequence_GREEN = []\n",
    "    model = globals()['CNCmodel_' + CNCmethod]\n",
    "    for i in range(0, model.XTrain_dim_GREEN):\n",
    "        sequence_GREEN.append(str(i))\n",
    "    return sequence_GREEN\n",
    "\n",
    "def getInputDates(i):\n",
    "  fecha_inicio = startDateGEE.advance(ee.Number(i).multiply(timeWindows),'day')\n",
    "  fecha_fin = fecha_inicio.advance(timeWindows, 'day')\n",
    "  fecha_str = datetime.datetime.utcfromtimestamp(fecha_inicio.getInfo()['value']/1000.0).strftime('%Y%m%d')\n",
    "  return {'fecha_inicio':fecha_inicio, 'fecha_fin':fecha_fin, 'fecha_str':fecha_str}\n",
    "\n",
    "def addVariables(image):\n",
    "  date = ee.Date(image.get(\"system:time_start\"));\n",
    "  years = date.difference(ee.Date('1970-01-01'),'days');\n",
    "  return image.addBands(ee.Image(years).rename('t').int());"
   ]
  },
  {
   "cell_type": "markdown",
   "metadata": {},
   "source": [
    "## Implementation Gaussian Processes Regression to calculate CNC with the chosen method"
   ]
  },
  {
   "cell_type": "code",
   "execution_count": 42,
   "metadata": {
    "tags": []
   },
   "outputs": [
    {
     "data": {
      "text/html": [
       "\n",
       "            <style>\n",
       "                .geemap-dark {\n",
       "                    --jp-widgets-color: white;\n",
       "                    --jp-widgets-label-color: white;\n",
       "                    --jp-ui-font-color1: white;\n",
       "                    --jp-layout-color2: #454545;\n",
       "                    background-color: #383838;\n",
       "                }\n",
       "\n",
       "                .geemap-dark .jupyter-button {\n",
       "                    --jp-layout-color3: #383838;\n",
       "                }\n",
       "\n",
       "                .geemap-colab {\n",
       "                    background-color: var(--colab-primary-surface-color, white);\n",
       "                }\n",
       "\n",
       "                .geemap-colab .jupyter-button {\n",
       "                    --jp-layout-color3: var(--colab-primary-surface-color, white);\n",
       "                }\n",
       "            </style>\n",
       "            "
      ],
      "text/plain": [
       "<IPython.core.display.HTML object>"
      ]
     },
     "metadata": {},
     "output_type": "display_data"
    }
   ],
   "source": [
    "def calculate_CNC(fecha_inicio, fecha_fin, CNCmethod):\n",
    "\n",
    "  model = globals()['CNCmodel_' + CNCmethod]\n",
    "  image = ee.Image(S2MSI\n",
    "  .filterDate(fecha_inicio, fecha_fin)\n",
    "  .filterBounds(roi)\n",
    "  .filterMetadata('CLOUDY_PIXEL_PERCENTAGE', 'less_than', 40)\n",
    "  .map(maskS2cloud)\n",
    "  .select(model.bands)\n",
    "  .max()\n",
    "  .clip(roi));\n",
    "\n",
    "  im_norm_ell2D_hypell = image.subtract(model.mx_GREEN).divide(model.sx_GREEN).multiply(model.hyp_ell_GREEN).toArray().toArray(1);\n",
    "  im_norm_ell2D = image.subtract(model.mx_GREEN).divide(model.sx_GREEN).toArray().toArray(1);\n",
    "  PtTPt  = im_norm_ell2D_hypell.matrixTranspose().matrixMultiply(im_norm_ell2D).arrayProject([0]).multiply(-0.5);\n",
    "\n",
    "  PtTDX  = ee.Image(model.X_train_GREEN).matrixMultiply(im_norm_ell2D_hypell).arrayProject([0]).arrayFlatten([sequence_GREEN(CNCmethod)]);\n",
    "  arg1   = PtTPt.exp().multiply(model.hyp_sig_GREEN);\n",
    "  k_star = PtTDX.subtract(model.XDX_pre_calc_GREEN.multiply(0.5)).exp().toArray();\n",
    "  mean_pred = k_star.arrayDotProduct(model.alpha_coefficients_GREEN.toArray()).multiply(arg1);\n",
    "  mean_pred = mean_pred.toArray(1).arrayProject([0]).arrayFlatten([[CNCmethod + '_CNC']]);\n",
    "  mean_pred = mean_pred.add(model.mean_model_GREEN);\n",
    "\n",
    "  k_star_uncert = PtTDX.subtract(model.XDX_pre_calc_GREEN.multiply(0.5)).exp().multiply(arg1).toArray();\n",
    "  Vvector = ee.Image(model.Linv_pre_calc_GREEN).matrixMultiply(k_star_uncert.toArray(0).toArray(1)).arrayProject([0])\n",
    "  Variance = ee.Image(model.hyp_sig_unc_GREEN).toArray().subtract(Vvector.arrayDotProduct(Vvector)).abs().sqrt()\n",
    "  Variance = Variance.toArray(1).arrayProject([0]).arrayFlatten([[CNCmethod + '_UNCERTAINTY_CNC']])\n",
    "\n",
    "  image= image.addBands(mean_pred);\n",
    "  image = image.addBands(Variance);\n",
    "\n",
    "  return image.select(CNCmethod + '_CNC', CNCmethod + '_UNCERTAINTY_CNC')\n"
   ]
  },
  {
   "cell_type": "markdown",
   "metadata": {},
   "source": [
    "# Function to loop calculate CNC through timeframe"
   ]
  },
  {
   "cell_type": "code",
   "execution_count": 43,
   "metadata": {
    "tags": []
   },
   "outputs": [
    {
     "data": {
      "text/html": [
       "\n",
       "            <style>\n",
       "                .geemap-dark {\n",
       "                    --jp-widgets-color: white;\n",
       "                    --jp-widgets-label-color: white;\n",
       "                    --jp-ui-font-color1: white;\n",
       "                    --jp-layout-color2: #454545;\n",
       "                    background-color: #383838;\n",
       "                }\n",
       "\n",
       "                .geemap-dark .jupyter-button {\n",
       "                    --jp-layout-color3: #383838;\n",
       "                }\n",
       "\n",
       "                .geemap-colab {\n",
       "                    background-color: var(--colab-primary-surface-color, white);\n",
       "                }\n",
       "\n",
       "                .geemap-colab .jupyter-button {\n",
       "                    --jp-layout-color3: var(--colab-primary-surface-color, white);\n",
       "                }\n",
       "            </style>\n",
       "            "
      ],
      "text/plain": [
       "<IPython.core.display.HTML object>"
      ]
     },
     "metadata": {},
     "output_type": "display_data"
    }
   ],
   "source": [
    "def loop_CNC():\n",
    "    startDate = datetime.datetime.strptime(startDateStr, \"%Y-%m-%d\").date()\n",
    "    daysIterations = abs((startDate - endDate) // timeWindows).days\n",
    "\n",
    "    for i in range(0, daysIterations):\n",
    "        print(getInputDates(i)['fecha_str'])\n",
    "        imageHolder = ee.Image().set('system:time_start', startDateGEE.advance(ee.Number(i).multiply(timeWindows), 'days').millis())\n",
    "\n",
    "        for variable_GREEN in variables_GREEN:\n",
    "            params = variables_GREEN[variable_GREEN]\n",
    "            variable = params[0]\n",
    "            limitUp = params[1]\n",
    "            limitDown = params[2]\n",
    "            imagen = calculate_CNC(getInputDates(i)['fecha_inicio'], getInputDates(i)['fecha_fin'], CNCmethod)\n",
    "            imageHolder = imageHolder.addBands(imagen)\n",
    "\n",
    "            image_export = imageHolder.select(CNCmethod + '_CNC', CNCmethod + 'UNCERTAINTY_CNC')\n",
    "            image_export = image_export.mask(lakemask)\n",
    "            image_export = image_export.mask(bare_cover)\n",
    "            image_export = image_export.set('system:time_start', startDateGEE.advance(ee.Number(i).multiply(timeWindows),'days').millis());\n",
    "\n",
    "            exportar = ee.batch.Export.image.toAsset(\n",
    "            assetId=assetPath + getInputDates(i)['fecha_str'] + CNCmethod + '_CNC',\n",
    "            image=image_export,\n",
    "            maxPixels=4731453308,\n",
    "            description=getInputDates(i)['fecha_str'] + CNCmethod + '_CNC',\n",
    "            scale=20,\n",
    "            region=roi\n",
    "            )\n",
    "            exportar.start()\n",
    "            exportar.status()"
   ]
  },
  {
   "cell_type": "code",
   "execution_count": 44,
   "metadata": {
    "colab": {
     "base_uri": "https://localhost:8080/",
     "height": 1000
    },
    "id": "xKVfCspmxTdW",
    "outputId": "c49d529d-97ce-4164-b97e-fc6235b65101",
    "tags": []
   },
   "outputs": [
    {
     "data": {
      "text/html": [
       "\n",
       "            <style>\n",
       "                .geemap-dark {\n",
       "                    --jp-widgets-color: white;\n",
       "                    --jp-widgets-label-color: white;\n",
       "                    --jp-ui-font-color1: white;\n",
       "                    --jp-layout-color2: #454545;\n",
       "                    background-color: #383838;\n",
       "                }\n",
       "\n",
       "                .geemap-dark .jupyter-button {\n",
       "                    --jp-layout-color3: #383838;\n",
       "                }\n",
       "\n",
       "                .geemap-colab {\n",
       "                    background-color: var(--colab-primary-surface-color, white);\n",
       "                }\n",
       "\n",
       "                .geemap-colab .jupyter-button {\n",
       "                    --jp-layout-color3: var(--colab-primary-surface-color, white);\n",
       "                }\n",
       "            </style>\n",
       "            "
      ],
      "text/plain": [
       "<IPython.core.display.HTML object>"
      ]
     },
     "metadata": {},
     "output_type": "display_data"
    },
    {
     "name": "stdout",
     "output_type": "stream",
     "text": [
      "20200701\n",
      "20200708\n",
      "20200715\n",
      "20200722\n",
      "20200729\n",
      "20200805\n",
      "20200812\n",
      "20200819\n"
     ]
    }
   ],
   "source": [
    "loop_CNC()"
   ]
  }
 ],
 "metadata": {
  "colab": {
   "provenance": []
  },
  "kernelspec": {
   "display_name": "Python 3 (ipykernel)",
   "language": "python",
   "name": "python3"
  },
  "language_info": {
   "codemirror_mode": {
    "name": "ipython",
    "version": 3
   },
   "file_extension": ".py",
   "mimetype": "text/x-python",
   "name": "python",
   "nbconvert_exporter": "python",
   "pygments_lexer": "ipython3",
   "version": "3.11.5"
  }
 },
 "nbformat": 4,
 "nbformat_minor": 4
}
